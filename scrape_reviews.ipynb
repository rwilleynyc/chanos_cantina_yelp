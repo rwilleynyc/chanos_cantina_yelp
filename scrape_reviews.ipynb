{
 "cells": [
  {
   "cell_type": "code",
   "execution_count": 45,
   "metadata": {},
   "outputs": [
    {
     "data": {
      "text/html": [
       "<div>\n",
       "<style scoped>\n",
       "    .dataframe tbody tr th:only-of-type {\n",
       "        vertical-align: middle;\n",
       "    }\n",
       "\n",
       "    .dataframe tbody tr th {\n",
       "        vertical-align: top;\n",
       "    }\n",
       "\n",
       "    .dataframe thead th {\n",
       "        text-align: right;\n",
       "    }\n",
       "</style>\n",
       "<table border=\"1\" class=\"dataframe\">\n",
       "  <thead>\n",
       "    <tr style=\"text-align: right;\">\n",
       "      <th></th>\n",
       "      <th>alias</th>\n",
       "      <th>name</th>\n",
       "      <th>review_count</th>\n",
       "      <th>rating</th>\n",
       "      <th>price</th>\n",
       "      <th>distance</th>\n",
       "      <th>tags</th>\n",
       "    </tr>\n",
       "  </thead>\n",
       "  <tbody>\n",
       "    <tr>\n",
       "      <th>0</th>\n",
       "      <td>las-catrinas-mexican-bar-and-eatery-astoria</td>\n",
       "      <td>Las Catrinas Mexican Bar &amp; Eatery</td>\n",
       "      <td>301</td>\n",
       "      <td>4.0</td>\n",
       "      <td>2.000000</td>\n",
       "      <td>642.525771</td>\n",
       "      <td>Mexican Cocktail Bars 2.0</td>\n",
       "    </tr>\n",
       "    <tr>\n",
       "      <th>1</th>\n",
       "      <td>chanos-cantina-astoria</td>\n",
       "      <td>Chano's Cantina</td>\n",
       "      <td>165</td>\n",
       "      <td>4.0</td>\n",
       "      <td>2.000000</td>\n",
       "      <td>1290.427488</td>\n",
       "      <td>Cocktail Bars New Mexican Cuisine 2.0</td>\n",
       "    </tr>\n",
       "    <tr>\n",
       "      <th>2</th>\n",
       "      <td>maizal-restaurant-and-tequila-bar-astoria-2</td>\n",
       "      <td>Maizal Restaurant &amp; Tequila Bar</td>\n",
       "      <td>295</td>\n",
       "      <td>4.0</td>\n",
       "      <td>2.000000</td>\n",
       "      <td>900.451091</td>\n",
       "      <td>Mexican Cocktail Bars 2.0</td>\n",
       "    </tr>\n",
       "    <tr>\n",
       "      <th>3</th>\n",
       "      <td>corazon-de-mexico-restaurant-and-bar-long-isla...</td>\n",
       "      <td>Corazon De Mexico Restaurant &amp; Bar</td>\n",
       "      <td>54</td>\n",
       "      <td>4.0</td>\n",
       "      <td>2.000000</td>\n",
       "      <td>3761.460081</td>\n",
       "      <td>Mexican Cocktail Bars Venues &amp; Event Spaces 2.0</td>\n",
       "    </tr>\n",
       "    <tr>\n",
       "      <th>4</th>\n",
       "      <td>la-chonas-astoria</td>\n",
       "      <td>La Chona's</td>\n",
       "      <td>15</td>\n",
       "      <td>3.5</td>\n",
       "      <td>1.822222</td>\n",
       "      <td>874.273703</td>\n",
       "      <td>Mexican Bars 1.8</td>\n",
       "    </tr>\n",
       "    <tr>\n",
       "      <th>5</th>\n",
       "      <td>two-lizards-mexican-bar-and-grill-new-york</td>\n",
       "      <td>Two Lizards Mexican Bar &amp; Grill</td>\n",
       "      <td>462</td>\n",
       "      <td>3.5</td>\n",
       "      <td>2.000000</td>\n",
       "      <td>2815.273152</td>\n",
       "      <td>Mexican Bars 2.0</td>\n",
       "    </tr>\n",
       "  </tbody>\n",
       "</table>\n",
       "</div>"
      ],
      "text/plain": [
       "                                               alias  \\\n",
       "0        las-catrinas-mexican-bar-and-eatery-astoria   \n",
       "1                             chanos-cantina-astoria   \n",
       "2        maizal-restaurant-and-tequila-bar-astoria-2   \n",
       "3  corazon-de-mexico-restaurant-and-bar-long-isla...   \n",
       "4                                  la-chonas-astoria   \n",
       "5         two-lizards-mexican-bar-and-grill-new-york   \n",
       "\n",
       "                                 name  review_count  rating     price  \\\n",
       "0   Las Catrinas Mexican Bar & Eatery           301     4.0  2.000000   \n",
       "1                     Chano's Cantina           165     4.0  2.000000   \n",
       "2     Maizal Restaurant & Tequila Bar           295     4.0  2.000000   \n",
       "3  Corazon De Mexico Restaurant & Bar            54     4.0  2.000000   \n",
       "4                          La Chona's            15     3.5  1.822222   \n",
       "5     Two Lizards Mexican Bar & Grill           462     3.5  2.000000   \n",
       "\n",
       "      distance                                             tags  \n",
       "0   642.525771                        Mexican Cocktail Bars 2.0  \n",
       "1  1290.427488            Cocktail Bars New Mexican Cuisine 2.0  \n",
       "2   900.451091                        Mexican Cocktail Bars 2.0  \n",
       "3  3761.460081  Mexican Cocktail Bars Venues & Event Spaces 2.0  \n",
       "4   874.273703                                 Mexican Bars 1.8  \n",
       "5  2815.273152                                 Mexican Bars 2.0  "
      ]
     },
     "execution_count": 45,
     "metadata": {},
     "output_type": "execute_result"
    }
   ],
   "source": [
    "import time as t\n",
    "from lxml import html \n",
    "import requests\n",
    "\n",
    "inputs = pd.read_csv('firm_data/inputs.csv', usecols=[1,2,3])\n",
    "name = inputs['company_name'][0]\n",
    "search_terms = inputs['search_terms'][0]\n",
    "location = inputs['location'][0]\n",
    "\n",
    "raw_data = pd.read_csv('firm_data/competitors.csv', \n",
    "                       usecols=[1, 2, 4, 6, 7, 8, 9])\n",
    "\n",
    "data = raw_data.copy()\n",
    "data"
   ]
  },
  {
   "cell_type": "code",
   "execution_count": 41,
   "metadata": {},
   "outputs": [],
   "source": [
    "url = 'https://www.yelp.com/biz/' + data['alias'][0] + '?start=1'\n",
    "\n",
    "html_page = requests.get(url) #Make a get request to retrieve the page\n",
    "soup = BeautifulSoup(html_page.content, 'html.parser') #Pass the page contents to beautiful soup for parsing"
   ]
  },
  {
   "cell_type": "code",
   "execution_count": 40,
   "metadata": {},
   "outputs": [
    {
     "data": {
      "text/plain": [
       "9"
      ]
     },
     "execution_count": 40,
     "metadata": {},
     "output_type": "execute_result"
    }
   ],
   "source": [
    "pg_count = 'lemon--span__373c0__3997G text__373c0__2pB8f text-color--inherit__373c0__w_15m text-align--left__373c0__2pnx_'\n",
    "num_pages = int(soup.find_all('span', class_=pg_count)[2].text[-2:])\n",
    "num_pages"
   ]
  },
  {
   "cell_type": "code",
   "execution_count": 44,
   "metadata": {},
   "outputs": [
    {
     "data": {
      "text/plain": [
       "'https://www.yelp.com/biz/chanos-cantina-astoria?start=160'"
      ]
     },
     "execution_count": 44,
     "metadata": {},
     "output_type": "execute_result"
    }
   ],
   "source": [
    "url[:-1] + str(num_pages*20-20)"
   ]
  },
  {
   "cell_type": "code",
   "execution_count": null,
   "metadata": {},
   "outputs": [],
   "source": []
  }
 ],
 "metadata": {
  "kernelspec": {
   "display_name": "Python 3",
   "language": "python",
   "name": "python3"
  },
  "language_info": {
   "codemirror_mode": {
    "name": "ipython",
    "version": 3
   },
   "file_extension": ".py",
   "mimetype": "text/x-python",
   "name": "python",
   "nbconvert_exporter": "python",
   "pygments_lexer": "ipython3",
   "version": "3.7.1"
  }
 },
 "nbformat": 4,
 "nbformat_minor": 2
}
