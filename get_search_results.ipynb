{
 "cells": [
  {
   "cell_type": "markdown",
   "metadata": {},
   "source": [
    "# Using Machine Learning to Help Small Businesses\n",
    "If there is one thing businesses are learning, it's that proper data analytics isn't enough to gain a competetive edge, but has become a necessary ticket to compete. Sadly, many small businesses have neither the resources nor the know-how to take advantage of what data is available to them. With this project, the aim is to build a machine learning algorithm that can help any small business get a better sense of how they are presenting themselves to customers, who their direct competitors are, and how they compare to those competitors.\n",
    "\n",
    "## Yelp\n",
    "This primary source of data for this analysis is Yelp. We will use the Yelp API in conjunction with web scraping techniques and NLP sentiment analysis to gather and analyze customer feedback."
   ]
  },
  {
   "cell_type": "code",
   "execution_count": 2,
   "metadata": {},
   "outputs": [],
   "source": [
    "import pandas as pd\n",
    "import numpy as np\n",
    "import json\n",
    "from yelpapi import YelpAPI\n",
    "from sklearn.cluster import KMeans\n",
    "\n",
    "# Load Yelp API token data\n",
    "f = open('access_tokens.json', 'r')\n",
    "tokens = json.load(f)\n",
    "section_tokens = tokens['yelp']['first_yelp_app_rwilleyii']\n",
    "client_id = section_tokens['Client ID']\n",
    "api_key = section_tokens['API Key']\n",
    "\n",
    "# Load Yelp API\n",
    "yelp_api = YelpAPI(api_key)"
   ]
  },
  {
   "cell_type": "markdown",
   "metadata": {},
   "source": [
    "## Business Selection Criteria\n",
    "This model relies on 3 inputs from the user to generate results:\n",
    "\n",
    "1. **Company Name**: This must be input exactly how the name appears on Yelp. It is advised to use copy/paste directly from Yelp.\n",
    "2. **Search Term**: Consider a customer that doesn't know the business exists, but could benefit from the service/product the company offers. What search terms do you expect your generic customer to search for? (I.e \"mexican food\", \"rooftop bar\", \"office supplies\", etc.)\n",
    "3. **Location**: Enter a location in the way you expect most customers to search. In most cases, this will be simply City, ST, but it could be zip cod as well."
   ]
  },
  {
   "cell_type": "code",
   "execution_count": 3,
   "metadata": {},
   "outputs": [
    {
     "name": "stdin",
     "output_type": "stream",
     "text": [
      "Please enter company name as it appears on Yelp.com:  Chano's Cantina\n",
      "For someone who has never been to your restaurant, what terms might they search on Yelp to find you?  mexican restaurant bar\n",
      "Where is your restaurant located? (city ST, ZIP, etc.)  astoria ny\n"
     ]
    }
   ],
   "source": [
    "# Get user preferences\n",
    "company_name = input('Please enter company name as it appears on Yelp.com: ')\n",
    "term = input('For someone who has never been to your restaurant, what terms might they search on Yelp to find you? ')\n",
    "location = input('Where is your restaurant located? (city ST, ZIP, etc.) ')"
   ]
  },
  {
   "cell_type": "code",
   "execution_count": 4,
   "metadata": {},
   "outputs": [],
   "source": [
    "company_details = pd.DataFrame(data=[[company_name, term, location]], \n",
    "                               columns=['company_name', 'search_terms', 'location'])\n",
    "company_details.to_csv('firm_data/inputs.csv')"
   ]
  },
  {
   "cell_type": "markdown",
   "metadata": {},
   "source": [
    "## Generate Results from Yelp API\n",
    "Using the variables above, return the top 50 results. The results should include the business in question; if not, there are likely more fundamental issues that need to be addressed before this model will be helpful. For example, if you are an italian restaurant but don't show up in search results for italian restaurants in the same neighborhood, the company is probably improperly listed on Yelp. The company should check to make sure the proper tags are in place or contact Yelp to find out what is going on."
   ]
  },
  {
   "cell_type": "code",
   "execution_count": 7,
   "metadata": {},
   "outputs": [
    {
     "data": {
      "text/plain": [
       "dict"
      ]
     },
     "execution_count": 7,
     "metadata": {},
     "output_type": "execute_result"
    }
   ],
   "source": [
    "search_limit = 50\n",
    "\n",
    "response = yelp_api.search_query(term = term,\n",
    "                                 location = location,\n",
    "                                 limit = search_limit)\n",
    "\n",
    "type(response)"
   ]
  },
  {
   "cell_type": "markdown",
   "metadata": {},
   "source": [
    "### Save Search Results to Dataframe"
   ]
  },
  {
   "cell_type": "code",
   "execution_count": 6,
   "metadata": {},
   "outputs": [
    {
     "data": {
      "text/html": [
       "<div>\n",
       "<style scoped>\n",
       "    .dataframe tbody tr th:only-of-type {\n",
       "        vertical-align: middle;\n",
       "    }\n",
       "\n",
       "    .dataframe tbody tr th {\n",
       "        vertical-align: top;\n",
       "    }\n",
       "\n",
       "    .dataframe thead th {\n",
       "        text-align: right;\n",
       "    }\n",
       "</style>\n",
       "<table border=\"1\" class=\"dataframe\">\n",
       "  <thead>\n",
       "    <tr style=\"text-align: right;\">\n",
       "      <th></th>\n",
       "      <th>id</th>\n",
       "      <th>alias</th>\n",
       "      <th>name</th>\n",
       "      <th>image_url</th>\n",
       "      <th>is_closed</th>\n",
       "      <th>url</th>\n",
       "      <th>review_count</th>\n",
       "      <th>categories</th>\n",
       "      <th>rating</th>\n",
       "      <th>coordinates</th>\n",
       "      <th>transactions</th>\n",
       "      <th>price</th>\n",
       "      <th>location</th>\n",
       "      <th>phone</th>\n",
       "      <th>display_phone</th>\n",
       "      <th>distance</th>\n",
       "    </tr>\n",
       "  </thead>\n",
       "  <tbody>\n",
       "    <tr>\n",
       "      <th>0</th>\n",
       "      <td>EHUNrnIgnhwTnpOm3gEESg</td>\n",
       "      <td>tacuba-astoria</td>\n",
       "      <td>Tacuba</td>\n",
       "      <td>https://s3-media4.fl.yelpcdn.com/bphoto/Q6jPz4...</td>\n",
       "      <td>False</td>\n",
       "      <td>https://www.yelp.com/biz/tacuba-astoria?adjust...</td>\n",
       "      <td>645</td>\n",
       "      <td>[{'alias': 'mexican', 'title': 'Mexican'}, {'a...</td>\n",
       "      <td>3.5</td>\n",
       "      <td>{'latitude': 40.75585, 'longitude': -73.92447}</td>\n",
       "      <td>[delivery, pickup]</td>\n",
       "      <td>$$</td>\n",
       "      <td>{'address1': '35-01 36th St', 'address2': '', ...</td>\n",
       "      <td>+17187862727</td>\n",
       "      <td>(718) 786-2727</td>\n",
       "      <td>1229.351705</td>\n",
       "    </tr>\n",
       "    <tr>\n",
       "      <th>1</th>\n",
       "      <td>yvva7IYpD6J7OfKlCdQrkw</td>\n",
       "      <td>mi-espiguita-taqueria-astoria</td>\n",
       "      <td>Mi Espiguita Taqueria</td>\n",
       "      <td>https://s3-media2.fl.yelpcdn.com/bphoto/TEho39...</td>\n",
       "      <td>False</td>\n",
       "      <td>https://www.yelp.com/biz/mi-espiguita-taqueria...</td>\n",
       "      <td>113</td>\n",
       "      <td>[{'alias': 'mexican', 'title': 'Mexican'}]</td>\n",
       "      <td>4.5</td>\n",
       "      <td>{'latitude': 40.7612033639422, 'longitude': -7...</td>\n",
       "      <td>[delivery, pickup]</td>\n",
       "      <td>$</td>\n",
       "      <td>{'address1': '32-44 31st St', 'address2': '', ...</td>\n",
       "      <td>+17187775648</td>\n",
       "      <td>(718) 777-5648</td>\n",
       "      <td>714.301080</td>\n",
       "    </tr>\n",
       "    <tr>\n",
       "      <th>2</th>\n",
       "      <td>anBWvFPOce4nl3qLX-H6Rg</td>\n",
       "      <td>el-mero-mero-long-island-city</td>\n",
       "      <td>El Mero Mero</td>\n",
       "      <td>https://s3-media2.fl.yelpcdn.com/bphoto/7tp30k...</td>\n",
       "      <td>False</td>\n",
       "      <td>https://www.yelp.com/biz/el-mero-mero-long-isl...</td>\n",
       "      <td>81</td>\n",
       "      <td>[{'alias': 'mexican', 'title': 'Mexican'}]</td>\n",
       "      <td>4.5</td>\n",
       "      <td>{'latitude': 40.753834323302, 'longitude': -73...</td>\n",
       "      <td>[delivery, pickup]</td>\n",
       "      <td>$$</td>\n",
       "      <td>{'address1': '35-57 38th St', 'address2': '', ...</td>\n",
       "      <td>+17183922444</td>\n",
       "      <td>(718) 392-2444</td>\n",
       "      <td>1457.114073</td>\n",
       "    </tr>\n",
       "    <tr>\n",
       "      <th>3</th>\n",
       "      <td>2jjxdN9FXWVdx6DEX83krQ</td>\n",
       "      <td>hoja-santa-astoria</td>\n",
       "      <td>Hoja Santa</td>\n",
       "      <td>https://s3-media3.fl.yelpcdn.com/bphoto/xqo13E...</td>\n",
       "      <td>False</td>\n",
       "      <td>https://www.yelp.com/biz/hoja-santa-astoria?ad...</td>\n",
       "      <td>33</td>\n",
       "      <td>[{'alias': 'newmexican', 'title': 'New Mexican...</td>\n",
       "      <td>4.5</td>\n",
       "      <td>{'latitude': 40.7638197, 'longitude': -73.914523}</td>\n",
       "      <td>[]</td>\n",
       "      <td>NaN</td>\n",
       "      <td>{'address1': '40-17 30th Ave', 'address2': '',...</td>\n",
       "      <td></td>\n",
       "      <td></td>\n",
       "      <td>751.531469</td>\n",
       "    </tr>\n",
       "    <tr>\n",
       "      <th>4</th>\n",
       "      <td>xrKa2SpgWzPEEbji3Iw2DQ</td>\n",
       "      <td>the-calaveras-new-york</td>\n",
       "      <td>The Calaveras</td>\n",
       "      <td>https://s3-media3.fl.yelpcdn.com/bphoto/u1T_yd...</td>\n",
       "      <td>False</td>\n",
       "      <td>https://www.yelp.com/biz/the-calaveras-new-yor...</td>\n",
       "      <td>103</td>\n",
       "      <td>[{'alias': 'bars', 'title': 'Bars'}, {'alias':...</td>\n",
       "      <td>4.5</td>\n",
       "      <td>{'latitude': 40.79956, 'longitude': -73.96241}</td>\n",
       "      <td>[delivery, pickup, restaurant_reservation]</td>\n",
       "      <td>$$</td>\n",
       "      <td>{'address1': '949 Columbus Ave', 'address2': N...</td>\n",
       "      <td>+16464846533</td>\n",
       "      <td>(646) 484-6533</td>\n",
       "      <td>4963.939653</td>\n",
       "    </tr>\n",
       "  </tbody>\n",
       "</table>\n",
       "</div>"
      ],
      "text/plain": [
       "                       id                          alias  \\\n",
       "0  EHUNrnIgnhwTnpOm3gEESg                 tacuba-astoria   \n",
       "1  yvva7IYpD6J7OfKlCdQrkw  mi-espiguita-taqueria-astoria   \n",
       "2  anBWvFPOce4nl3qLX-H6Rg  el-mero-mero-long-island-city   \n",
       "3  2jjxdN9FXWVdx6DEX83krQ             hoja-santa-astoria   \n",
       "4  xrKa2SpgWzPEEbji3Iw2DQ         the-calaveras-new-york   \n",
       "\n",
       "                    name                                          image_url  \\\n",
       "0                 Tacuba  https://s3-media4.fl.yelpcdn.com/bphoto/Q6jPz4...   \n",
       "1  Mi Espiguita Taqueria  https://s3-media2.fl.yelpcdn.com/bphoto/TEho39...   \n",
       "2           El Mero Mero  https://s3-media2.fl.yelpcdn.com/bphoto/7tp30k...   \n",
       "3             Hoja Santa  https://s3-media3.fl.yelpcdn.com/bphoto/xqo13E...   \n",
       "4          The Calaveras  https://s3-media3.fl.yelpcdn.com/bphoto/u1T_yd...   \n",
       "\n",
       "  is_closed                                                url review_count  \\\n",
       "0     False  https://www.yelp.com/biz/tacuba-astoria?adjust...          645   \n",
       "1     False  https://www.yelp.com/biz/mi-espiguita-taqueria...          113   \n",
       "2     False  https://www.yelp.com/biz/el-mero-mero-long-isl...           81   \n",
       "3     False  https://www.yelp.com/biz/hoja-santa-astoria?ad...           33   \n",
       "4     False  https://www.yelp.com/biz/the-calaveras-new-yor...          103   \n",
       "\n",
       "                                          categories  rating  \\\n",
       "0  [{'alias': 'mexican', 'title': 'Mexican'}, {'a...     3.5   \n",
       "1         [{'alias': 'mexican', 'title': 'Mexican'}]     4.5   \n",
       "2         [{'alias': 'mexican', 'title': 'Mexican'}]     4.5   \n",
       "3  [{'alias': 'newmexican', 'title': 'New Mexican...     4.5   \n",
       "4  [{'alias': 'bars', 'title': 'Bars'}, {'alias':...     4.5   \n",
       "\n",
       "                                         coordinates  \\\n",
       "0     {'latitude': 40.75585, 'longitude': -73.92447}   \n",
       "1  {'latitude': 40.7612033639422, 'longitude': -7...   \n",
       "2  {'latitude': 40.753834323302, 'longitude': -73...   \n",
       "3  {'latitude': 40.7638197, 'longitude': -73.914523}   \n",
       "4     {'latitude': 40.79956, 'longitude': -73.96241}   \n",
       "\n",
       "                                 transactions price  \\\n",
       "0                          [delivery, pickup]    $$   \n",
       "1                          [delivery, pickup]     $   \n",
       "2                          [delivery, pickup]    $$   \n",
       "3                                          []   NaN   \n",
       "4  [delivery, pickup, restaurant_reservation]    $$   \n",
       "\n",
       "                                            location         phone  \\\n",
       "0  {'address1': '35-01 36th St', 'address2': '', ...  +17187862727   \n",
       "1  {'address1': '32-44 31st St', 'address2': '', ...  +17187775648   \n",
       "2  {'address1': '35-57 38th St', 'address2': '', ...  +17183922444   \n",
       "3  {'address1': '40-17 30th Ave', 'address2': '',...                 \n",
       "4  {'address1': '949 Columbus Ave', 'address2': N...  +16464846533   \n",
       "\n",
       "    display_phone     distance  \n",
       "0  (718) 786-2727  1229.351705  \n",
       "1  (718) 777-5648   714.301080  \n",
       "2  (718) 392-2444  1457.114073  \n",
       "3                   751.531469  \n",
       "4  (646) 484-6533  4963.939653  "
      ]
     },
     "execution_count": 6,
     "metadata": {},
     "output_type": "execute_result"
    }
   ],
   "source": [
    "cols = list(response['businesses'][0].keys())\n",
    "data = pd.DataFrame(columns=cols)\n",
    "\n",
    "for biz in response['businesses']:\n",
    "    data = data.append(biz, ignore_index=True)\n",
    "\n",
    "data = data[data['is_closed']==False]\n",
    "data.head()"
   ]
  },
  {
   "cell_type": "code",
   "execution_count": 11,
   "metadata": {},
   "outputs": [],
   "source": [
    "data.head().to_csv('data_head.csv')"
   ]
  },
  {
   "cell_type": "code",
   "execution_count": null,
   "metadata": {},
   "outputs": [],
   "source": [
    "data.to_csv(f'firm_data/{company_name}_search_results.csv')"
   ]
  }
 ],
 "metadata": {
  "kernelspec": {
   "display_name": "Python 3",
   "language": "python",
   "name": "python3"
  },
  "language_info": {
   "codemirror_mode": {
    "name": "ipython",
    "version": 3
   },
   "file_extension": ".py",
   "mimetype": "text/x-python",
   "name": "python",
   "nbconvert_exporter": "python",
   "pygments_lexer": "ipython3",
   "version": "3.7.1"
  }
 },
 "nbformat": 4,
 "nbformat_minor": 2
}
